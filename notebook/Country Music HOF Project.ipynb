{
 "cells": [
  {
   "cell_type": "markdown",
   "id": "22342bb3",
   "metadata": {},
   "source": [
    "**Objective:** Use BeautifulSoup in order to obtain a dataset of all Country Music Hall of Fame inductees.\n",
    "Take the contents of this website and convert it into a pandas DataFrame."
   ]
  },
  {
   "cell_type": "code",
   "execution_count": null,
   "id": "d81633d0",
   "metadata": {},
   "outputs": [],
   "source": [
    "import pandas as pd \n",
    "import requests\n",
    "from bs4 import BeautifulSoup as BS\n",
    "import re"
   ]
  },
  {
   "cell_type": "code",
   "execution_count": null,
   "id": "ebeabcdd",
   "metadata": {},
   "outputs": [],
   "source": [
    "#request data from country music site \n",
    "url = 'https://countrymusichalloffame.org/hall-of-fame/members/'\n",
    "response = requests.get(url)"
   ]
  },
  {
   "cell_type": "code",
   "execution_count": null,
   "id": "fc769bd7",
   "metadata": {},
   "outputs": [],
   "source": [
    "type(response)"
   ]
  },
  {
   "cell_type": "code",
   "execution_count": null,
   "id": "be1423e0",
   "metadata": {},
   "outputs": [],
   "source": [
    "response.status_code"
   ]
  },
  {
   "cell_type": "markdown",
   "id": "f519b60c",
   "metadata": {},
   "source": [
    "**Step 1:** Start by using either the inspector or by viewing the page source. Can you identify a tag that might be helpful for finding the names of all inductees? Make use of this to create a list containing just the names of each inductee."
   ]
  },
  {
   "cell_type": "code",
   "execution_count": null,
   "id": "9eba93dc",
   "metadata": {},
   "outputs": [],
   "source": [
    "#Helpful Tag: <h3>"
   ]
  },
  {
   "cell_type": "markdown",
   "id": "6869fdb1",
   "metadata": {},
   "source": [
    "&emsp;&emsp;Make the text more readable"
   ]
  },
  {
   "cell_type": "code",
   "execution_count": null,
   "id": "e4d1c163",
   "metadata": {},
   "outputs": [],
   "source": [
    "text = BS(response.text)\n",
    "text"
   ]
  },
  {
   "cell_type": "markdown",
   "id": "343656a9",
   "metadata": {},
   "source": [
    "&emsp;&emsp;Find all instances of the tag"
   ]
  },
  {
   "cell_type": "code",
   "execution_count": null,
   "id": "5a0a9c85",
   "metadata": {},
   "outputs": [],
   "source": [
    "names_tag = text.findAll('h3')\n",
    "names_tag"
   ]
  },
  {
   "cell_type": "code",
   "execution_count": null,
   "id": "4f3567f6",
   "metadata": {},
   "outputs": [],
   "source": [
    "text.find('h3').text"
   ]
  },
  {
   "cell_type": "code",
   "execution_count": null,
   "id": "9c0344c5",
   "metadata": {},
   "outputs": [],
   "source": [
    "names_tag[0]"
   ]
  },
  {
   "cell_type": "markdown",
   "id": "f0ac41b0",
   "metadata": {},
   "source": [
    "&emsp;&emsp;Remove Tag from Names"
   ]
  },
  {
   "cell_type": "code",
   "execution_count": null,
   "id": "ba707449",
   "metadata": {
    "scrolled": true
   },
   "outputs": [],
   "source": [
    "page1_names = []\n",
    "\n",
    "for name in names_tag:\n",
    "    page1_names.append(name.text)\n",
    "page1_names"
   ]
  },
  {
   "cell_type": "markdown",
   "id": "cf22a449",
   "metadata": {},
   "source": [
    "&emsp;&emsp;Names of All Members"
   ]
  },
  {
   "cell_type": "code",
   "execution_count": null,
   "id": "218ad995",
   "metadata": {},
   "outputs": [],
   "source": [
    "root_url = 'https://countrymusichalloffame.org/hall-of-fame/members/page/'\n",
    "all_names = []\n",
    "for p in range(1, 17):\n",
    "    r = requests.get(root_url + str(p))\n",
    "    t = BS(r.text, 'html.parser')\n",
    "    n = t.find_all('h3')\n",
    "    \n",
    "    for i in n:\n",
    "        all_names.append(i.text)\n",
    "all_names"
   ]
  },
  {
   "cell_type": "code",
   "execution_count": null,
   "id": "92946abf",
   "metadata": {},
   "outputs": [],
   "source": [
    "len(all_names)"
   ]
  },
  {
   "cell_type": "markdown",
   "id": "8d3a420a",
   "metadata": {},
   "source": [
    "**Step 2:** Try and find a tag that could be used to find the year that each member was inducted. Extract these into a list. When you do this, be sure to only include the year and not the full text. For example, for Roy Acuff, the list entry should be \"1962\" and not \"Inducted 1962\". Double-check that the resulting list has the correct number of elements and is in the same order as your inductees list."
   ]
  },
  {
   "cell_type": "code",
   "execution_count": null,
   "id": "eb2bc187",
   "metadata": {},
   "outputs": [],
   "source": [
    "dates = text.find_all('p')\n",
    "dates"
   ]
  },
  {
   "cell_type": "code",
   "execution_count": null,
   "id": "84e12570",
   "metadata": {},
   "outputs": [],
   "source": [
    "len(dates)"
   ]
  },
  {
   "cell_type": "code",
   "execution_count": null,
   "id": "d7661ba5",
   "metadata": {},
   "outputs": [],
   "source": [
    "type(dates)"
   ]
  },
  {
   "cell_type": "code",
   "execution_count": null,
   "id": "9322d9bc",
   "metadata": {},
   "outputs": [],
   "source": [
    "date_list = []\n",
    "\n",
    "for date in dates:\n",
    "    date_list.append(re.findall(r'Inducted \\d{4}', date.text))\n",
    "    date_list2 = list(filter(None, date_list))\n",
    "date_list2   "
   ]
  },
  {
   "cell_type": "code",
   "execution_count": null,
   "id": "d6b9019c",
   "metadata": {},
   "outputs": [],
   "source": [
    "flat_list = [i for dlist in date_list2 for i in dlist]\n",
    "flat_list"
   ]
  },
  {
   "cell_type": "code",
   "execution_count": null,
   "id": "71ca5514",
   "metadata": {},
   "outputs": [],
   "source": [
    "for d in flat_list: \n",
    "    d_list = re.search(r'\\d{4}', d).group(0)\n",
    "    print(d_list)"
   ]
  },
  {
   "cell_type": "markdown",
   "id": "02bd02fb",
   "metadata": {},
   "source": [
    "&emsp;&emsp;Induction Year of All HOF Members"
   ]
  },
  {
   "cell_type": "code",
   "execution_count": null,
   "id": "c93da89b",
   "metadata": {},
   "outputs": [],
   "source": [
    "root_url = 'https://countrymusichalloffame.org/hall-of-fame/members/page/'\n",
    "full_list = []\n",
    "\n",
    "for p in range(1, 17):\n",
    "    r = requests.get(root_url + str(p))\n",
    "    t = BS(r.text, 'html.parser')\n",
    "    d = t.find_all('p')\n",
    "    \n",
    "    for item in d:\n",
    "        full_list.append(re.findall(r'Inducted \\d{4}', item.text))\n",
    "        full_dlist = list(filter(None, full_list))\n",
    "print(full_dlist)"
   ]
  },
  {
   "cell_type": "code",
   "execution_count": null,
   "id": "a9aa7932",
   "metadata": {},
   "outputs": [],
   "source": [
    "all_dates = [i for d in full_dlist for i in d]\n",
    "all_dates"
   ]
  },
  {
   "cell_type": "code",
   "execution_count": null,
   "id": "762ec09f",
   "metadata": {},
   "outputs": [],
   "source": [
    "all_dates_list = []\n",
    "for d in all_dates: \n",
    "    all_dates_list.append(re.search(r'\\d{4}', d).group(0))\n",
    "all_dates_list"
   ]
  },
  {
   "cell_type": "code",
   "execution_count": null,
   "id": "23e24b03",
   "metadata": {},
   "outputs": [],
   "source": [
    "len(all_dates_list)"
   ]
  },
  {
   "cell_type": "markdown",
   "id": "da912e7c",
   "metadata": {},
   "source": [
    "**Step 3:** Take the two lists you created on parts 1 and 2 and convert it into a pandas DataFrame."
   ]
  },
  {
   "cell_type": "code",
   "execution_count": null,
   "id": "6c6ca2a1",
   "metadata": {},
   "outputs": [],
   "source": [
    "HOF_members = pd.DataFrame({'Name': all_names, 'Year Inducted': all_dates_list})\n",
    "HOF_members"
   ]
  },
  {
   "cell_type": "code",
   "execution_count": null,
   "id": "0031d351",
   "metadata": {},
   "outputs": [],
   "source": [
    "HOF_members.to_excel(\"HOF members.xlsx\") "
   ]
  }
 ],
 "metadata": {
  "kernelspec": {
   "display_name": "Python 3 (ipykernel)",
   "language": "python",
   "name": "python3"
  },
  "language_info": {
   "codemirror_mode": {
    "name": "ipython",
    "version": 3
   },
   "file_extension": ".py",
   "mimetype": "text/x-python",
   "name": "python",
   "nbconvert_exporter": "python",
   "pygments_lexer": "ipython3",
   "version": "3.9.7"
  }
 },
 "nbformat": 4,
 "nbformat_minor": 5
}
