{
 "cells": [
  {
   "cell_type": "markdown",
   "id": "22342bb3",
   "metadata": {},
   "source": [
    "**Objective:** Use BeautifulSoup in order to obtain a dataset of all Country Music Hall of Fame inductees.\n",
    "Take the contents of this website and convert it into a pandas DataFrame."
   ]
  },
  {
   "cell_type": "code",
   "execution_count": null,
   "id": "d81633d0",
   "metadata": {},
   "outputs": [],
   "source": [
    "import pandas as pd \n",
    "import requests\n",
    "from bs4 import BeautifulSoup as BS"
   ]
  },
  {
   "cell_type": "code",
   "execution_count": null,
   "id": "ebeabcdd",
   "metadata": {},
   "outputs": [],
   "source": [
    "#request data from country music site \n",
    "url = 'https://countrymusichalloffame.org/hall-of-fame/members/'\n",
    "response = requests.get(url)"
   ]
  },
  {
   "cell_type": "code",
   "execution_count": null,
   "id": "fc769bd7",
   "metadata": {},
   "outputs": [],
   "source": [
    "type(response)"
   ]
  },
  {
   "cell_type": "code",
   "execution_count": null,
   "id": "be1423e0",
   "metadata": {},
   "outputs": [],
   "source": [
    "response.status_code"
   ]
  },
  {
   "cell_type": "markdown",
   "id": "f519b60c",
   "metadata": {},
   "source": [
    "**Step 1:** Start by using either the inspector or by viewing the page source. Can you identify a tag that might be helpful for finding the names of all inductees? Make use of this to create a list containing just the names of each inductee."
   ]
  },
  {
   "cell_type": "code",
   "execution_count": null,
   "id": "9eba93dc",
   "metadata": {},
   "outputs": [],
   "source": [
    "#Helpful Tag: <h3>"
   ]
  },
  {
   "cell_type": "markdown",
   "id": "6869fdb1",
   "metadata": {},
   "source": [
    "&emsp;&emsp;Make the text more readable"
   ]
  },
  {
   "cell_type": "code",
   "execution_count": null,
   "id": "e4d1c163",
   "metadata": {},
   "outputs": [],
   "source": [
    "text = BS(response.text)\n",
    "text"
   ]
  },
  {
   "cell_type": "markdown",
   "id": "343656a9",
   "metadata": {},
   "source": [
    "&emsp;&emsp;Find all instances of the tag"
   ]
  },
  {
   "cell_type": "code",
   "execution_count": null,
   "id": "1783dca0",
   "metadata": {},
   "outputs": [],
   "source": [
    "text.findAll('div')"
   ]
  },
  {
   "cell_type": "code",
   "execution_count": null,
   "id": "e0314de3",
   "metadata": {},
   "outputs": [],
   "source": [
    "text.findAll('script')"
   ]
  },
  {
   "cell_type": "code",
   "execution_count": null,
   "id": "5a0a9c85",
   "metadata": {},
   "outputs": [],
   "source": [
    "names = text.findAll('h3')"
   ]
  },
  {
   "cell_type": "code",
   "execution_count": null,
   "id": "4f3567f6",
   "metadata": {},
   "outputs": [],
   "source": [
    "text.find('h3').text"
   ]
  },
  {
   "cell_type": "code",
   "execution_count": null,
   "id": "9c0344c5",
   "metadata": {},
   "outputs": [],
   "source": [
    "names[0]"
   ]
  },
  {
   "cell_type": "markdown",
   "id": "f0ac41b0",
   "metadata": {},
   "source": [
    "&emsp;&emsp;Remove Tag from Names"
   ]
  },
  {
   "cell_type": "code",
   "execution_count": null,
   "id": "ed4b03e3",
   "metadata": {},
   "outputs": [],
   "source": [
    "#Attempt Later\n",
    "#https://stackoverflow.com/questions/753052/strip-html-from-strings-in-python\n",
    "#https://tutorialedge.net/python/removing-html-from-string/"
   ]
  },
  {
   "cell_type": "code",
   "execution_count": null,
   "id": "2435f5ae",
   "metadata": {},
   "outputs": [],
   "source": [
    "text.findAll('h3').text"
   ]
  },
  {
   "cell_type": "code",
   "execution_count": null,
   "id": "8a445b55",
   "metadata": {},
   "outputs": [],
   "source": [
    "#[x.get('src') for x in images]\n"
   ]
  },
  {
   "cell_type": "markdown",
   "id": "8d3a420a",
   "metadata": {},
   "source": [
    "**Step 2:** Try and find a tag that could be used to find the year that each member was inducted. Extract these into a list. When you do this, be sure to only include the year and not the full text. For example, for Roy Acuff, the list entry should be \"1962\" and not \"Inducted 1962\". Double-check that the resulting list has the correct number of elements and is in the same order as your inductees list."
   ]
  },
  {
   "cell_type": "markdown",
   "id": "da912e7c",
   "metadata": {},
   "source": [
    "**Step 3:** Take the two lists you created on parts 1 and 2 and convert it into a pandas DataFrame."
   ]
  },
  {
   "cell_type": "markdown",
   "id": "c3c6918a",
   "metadata": {},
   "source": [
    "**Step 4:** Once you have verified that your code will still work, write a for loop that will cycle through all 16 pages and build a DataFrame containing all inductees and the year of their induction."
   ]
  },
  {
   "cell_type": "code",
   "execution_count": null,
   "id": "7e96a6db",
   "metadata": {},
   "outputs": [],
   "source": []
  }
 ],
 "metadata": {
  "kernelspec": {
   "display_name": "Python 3 (ipykernel)",
   "language": "python",
   "name": "python3"
  },
  "language_info": {
   "codemirror_mode": {
    "name": "ipython",
    "version": 3
   },
   "file_extension": ".py",
   "mimetype": "text/x-python",
   "name": "python",
   "nbconvert_exporter": "python",
   "pygments_lexer": "ipython3",
   "version": "3.9.7"
  }
 },
 "nbformat": 4,
 "nbformat_minor": 5
}
